{
  "nbformat": 4,
  "nbformat_minor": 0,
  "metadata": {
    "colab": {
      "provenance": []
    },
    "kernelspec": {
      "name": "python3",
      "display_name": "Python 3"
    },
    "language_info": {
      "name": "python"
    }
  },
  "cells": [
    {
      "cell_type": "code",
      "execution_count": null,
      "metadata": {
        "colab": {
          "base_uri": "https://localhost:8080/"
        },
        "id": "WstzUF02uCoi",
        "outputId": "87aa3330-7a31-43b3-f8ea-120612cfa2c4"
      },
      "outputs": [
        {
          "output_type": "stream",
          "name": "stdout",
          "text": [
            "--2024-03-26 17:06:10--  https://cainvas-static.s3.amazonaws.com/media/user_data/AMZzee/mobilenet_v1.zip\n",
            "Resolving cainvas-static.s3.amazonaws.com (cainvas-static.s3.amazonaws.com)... 16.12.36.107, 52.219.156.7, 52.219.158.39, ...\n",
            "Connecting to cainvas-static.s3.amazonaws.com (cainvas-static.s3.amazonaws.com)|16.12.36.107|:443... connected.\n",
            "HTTP request sent, awaiting response... 200 OK\n",
            "Length: 9263 (9.0K) [application/x-zip-compressed]\n",
            "Saving to: ‘mobilenet_v1.zip’\n",
            "\n",
            "mobilenet_v1.zip    100%[===================>]   9.05K  --.-KB/s    in 0s      \n",
            "\n",
            "2024-03-26 17:06:11 (78.9 MB/s) - ‘mobilenet_v1.zip’ saved [9263/9263]\n",
            "\n"
          ]
        }
      ],
      "source": [
        "!wget https://cainvas-static.s3.amazonaws.com/media/user_data/AMZzee/mobilenet_v1.zip -O mobilenet_v1.zip\n"
      ]
    },
    {
      "cell_type": "code",
      "source": [
        "import zipfile as zf\n",
        "files = zf.ZipFile(\"mobilenet_v1.zip\", 'r')\n",
        "files.extractall('mobilenet_v1')\n",
        "files.close()\n"
      ],
      "metadata": {
        "id": "drclWzAVuvuq"
      },
      "execution_count": null,
      "outputs": []
    },
    {
      "cell_type": "code",
      "source": [
        "from tensorflow import keras\n",
        "import numpy as np\n",
        "from tensorflow.keras import backend as K\n",
        "from tensorflow.keras.optimizers import Adam\n",
        "from tensorflow.keras.metrics import categorical_crossentropy\n",
        "from tensorflow.keras.preprocessing.image import ImageDataGenerator\n",
        "from tensorflow.keras.preprocessing import image\n",
        "from tensorflow.keras.models import Model\n",
        "from tensorflow.keras.applications import imagenet_utils\n",
        "from tensorflow.keras.layers import Dense, GlobalAveragePooling2D, Dropout,Flatten\n",
        "import matplotlib.pyplot as plt\n",
        "import cv2\n",
        "\n",
        "from mobilenet_v1.mobilenet import MobileNet\n",
        "\n",
        "from tensorflow.keras.applications.mobilenet import preprocess_input\n"
      ],
      "metadata": {
        "id": "zYGDpyq7uxci"
      },
      "execution_count": null,
      "outputs": []
    },
    {
      "cell_type": "code",
      "source": [
        "# the parameters\n",
        "IMAGE_SIZE = 224\n",
        "ALPHA=0.75\n",
        "EPOCHS=20"
      ],
      "metadata": {
        "id": "y9JQt5Mbu9z2"
      },
      "execution_count": null,
      "outputs": []
    },
    {
      "cell_type": "code",
      "source": [
        "def prepare_image(file):\n",
        "    img_path = ''\n",
        "    img = image.load_img(img_path + file, target_size=(IMAGE_SIZE, IMAGE_SIZE))\n",
        "    img_array = image.img_to_array(img)\n",
        "    img_array_expanded_dims = np.expand_dims(img_array, axis=0)\n",
        "    return keras.applications.mobilenet.preprocess_input(img_array_expanded_dims)"
      ],
      "metadata": {
        "id": "bSduj5bsvGFq"
      },
      "execution_count": null,
      "outputs": []
    },
    {
      "cell_type": "code",
      "source": [
        "def build_finetune_model(base_model, dropout, fc_layers, num_classes):\n",
        "    for layer in base_model.layers:\n",
        "        layer.trainable = False\n",
        "\n",
        "    x = base_model.output\n",
        "    x = GlobalAveragePooling2D()(x)\n",
        "\n",
        "    for fc in fc_layers:\n",
        "        # New FC layer, random init\n",
        "        x = Dense(fc, activation='relu')(x)\n",
        "        x = Dropout(dropout)(x)\n",
        "\n",
        "    # New softmax layer\n",
        "    predictions = Dense(num_classes, activation='softmax')(x)\n",
        "\n",
        "    finetune_model = Model(inputs=base_model.input, outputs=predictions)\n",
        "\n",
        "    return finetune_model\n"
      ],
      "metadata": {
        "id": "5mAVT2JevH6A"
      },
      "execution_count": null,
      "outputs": []
    },
    {
      "cell_type": "code",
      "source": [
        "base_model=MobileNet(input_shape=(IMAGE_SIZE, IMAGE_SIZE,3), alpha = ALPHA,\n",
        "                     depth_multiplier = 1, dropout = 0.001, include_top = False,\n",
        "                     weights = \"imagenet\", classes = 4, backend=keras.backend,\n",
        "                     layers=keras.layers,models=keras.models,utils=keras.utils)"
      ],
      "metadata": {
        "colab": {
          "base_uri": "https://localhost:8080/"
        },
        "id": "V5G0B3acvTvi",
        "outputId": "55045036-2b83-4142-be46-d5c6c06a9997"
      },
      "execution_count": null,
      "outputs": [
        {
          "output_type": "stream",
          "name": "stdout",
          "text": [
            "Downloading data from https://github.com/fchollet/deep-learning-models/releases/download/v0.6/mobilenet_7_5_224_tf_no_top.h5\n",
            "10626956/10626956 [==============================] - 0s 0us/step\n"
          ]
        }
      ]
    },
    {
      "cell_type": "code",
      "source": [
        "!wget https://cainvas-static.s3.amazonaws.com/media/user_data/AMZzee/3D_Shapes.zip -O 3D_Shapes.zip\n"
      ],
      "metadata": {
        "colab": {
          "base_uri": "https://localhost:8080/"
        },
        "id": "IbZ0YP0uvpN-",
        "outputId": "182d64f4-ee56-4cd7-a29b-67282c37e208"
      },
      "execution_count": null,
      "outputs": [
        {
          "output_type": "stream",
          "name": "stdout",
          "text": [
            "--2024-03-26 17:11:15--  https://cainvas-static.s3.amazonaws.com/media/user_data/AMZzee/3D_Shapes.zip\n",
            "Resolving cainvas-static.s3.amazonaws.com (cainvas-static.s3.amazonaws.com)... 16.12.40.75, 52.219.156.207, 52.219.156.107, ...\n",
            "Connecting to cainvas-static.s3.amazonaws.com (cainvas-static.s3.amazonaws.com)|16.12.40.75|:443... connected.\n",
            "HTTP request sent, awaiting response... 200 OK\n",
            "Length: 2137601 (2.0M) [application/x-zip-compressed]\n",
            "Saving to: ‘3D_Shapes.zip’\n",
            "\n",
            "3D_Shapes.zip       100%[===================>]   2.04M  1.26MB/s    in 1.6s    \n",
            "\n",
            "2024-03-26 17:11:17 (1.26 MB/s) - ‘3D_Shapes.zip’ saved [2137601/2137601]\n",
            "\n"
          ]
        }
      ]
    },
    {
      "cell_type": "code",
      "source": [
        "import zipfile as zf\n",
        "files = zf.ZipFile(\"3D_Shapes.zip\", 'r')\n",
        "files.extractall('3D_Shapes_Dataset')\n",
        "files.close()\n"
      ],
      "metadata": {
        "id": "rk4Kl3d6vsn6"
      },
      "execution_count": null,
      "outputs": []
    },
    {
      "cell_type": "code",
      "source": [
        "FC_LAYERS = [100, 50]\n",
        "dropout = 0.5\n",
        "\n",
        "finetune_model = build_finetune_model(base_model,\n",
        "                                      dropout=dropout,\n",
        "                                      fc_layers=FC_LAYERS,\n",
        "                                      num_classes=4)\n"
      ],
      "metadata": {
        "id": "ZoA0k7d-v_eG"
      },
      "execution_count": null,
      "outputs": []
    },
    {
      "cell_type": "code",
      "source": [
        "train_datagen=ImageDataGenerator(preprocessing_function=preprocess_input)\n",
        "\n",
        "train_generator=train_datagen.flow_from_directory('3D_Shapes_Dataset',\n",
        "                                                 target_size=(IMAGE_SIZE,IMAGE_SIZE),\n",
        "                                                 color_mode='rgb',\n",
        "                                                 batch_size=32,\n",
        "                                                 class_mode='categorical', shuffle=True)\n"
      ],
      "metadata": {
        "colab": {
          "base_uri": "https://localhost:8080/"
        },
        "id": "qeZKuokBwCx_",
        "outputId": "8c1c716c-cc50-45c6-95c5-bdd404bb0824"
      },
      "execution_count": null,
      "outputs": [
        {
          "output_type": "stream",
          "name": "stdout",
          "text": [
            "Found 1182 images belonging to 4 classes.\n"
          ]
        }
      ]
    },
    {
      "cell_type": "code",
      "source": [
        "finetune_model.summary()\n",
        "finetune_model.compile(optimizer='Adam',loss='categorical_crossentropy',metrics=['accuracy'])\n",
        "step_size_train=train_generator.n//train_generator.batch_size\n",
        "history = finetune_model.fit_generator(generator=train_generator,steps_per_epoch=step_size_train,epochs=EPOCHS, shuffle=True)\n",
        "\n",
        "finetune_model.save('shape_model.h5')"
      ],
      "metadata": {
        "colab": {
          "base_uri": "https://localhost:8080/"
        },
        "id": "sFztB8S9wQm8",
        "outputId": "f5df68a5-c489-4b05-ba76-6b8937caac80"
      },
      "execution_count": null,
      "outputs": [
        {
          "output_type": "stream",
          "name": "stdout",
          "text": [
            "Model: \"model\"\n",
            "_________________________________________________________________\n",
            " Layer (type)                Output Shape              Param #   \n",
            "=================================================================\n",
            " input_1 (InputLayer)        [(None, 224, 224, 3)]     0         \n",
            "                                                                 \n",
            " conv1_pad (ZeroPadding2D)   (None, 226, 226, 3)       0         \n",
            "                                                                 \n",
            " conv1 (Conv2D)              (None, 112, 112, 24)      648       \n",
            "                                                                 \n",
            " conv1_bn (BatchNormalizati  (None, 112, 112, 24)      96        \n",
            " on)                                                             \n",
            "                                                                 \n",
            " conv1_relu (ReLU)           (None, 112, 112, 24)      0         \n",
            "                                                                 \n",
            " conv_dw_1 (DepthwiseConv2D  (None, 112, 112, 24)      216       \n",
            " )                                                               \n",
            "                                                                 \n",
            " conv_dw_1_bn (BatchNormali  (None, 112, 112, 24)      96        \n",
            " zation)                                                         \n",
            "                                                                 \n",
            " conv_dw_1_relu (ReLU)       (None, 112, 112, 24)      0         \n",
            "                                                                 \n",
            " conv_pw_1 (Conv2D)          (None, 112, 112, 48)      1152      \n",
            "                                                                 \n",
            " conv_pw_1_bn (BatchNormali  (None, 112, 112, 48)      192       \n",
            " zation)                                                         \n",
            "                                                                 \n",
            " conv_pw_1_relu (ReLU)       (None, 112, 112, 48)      0         \n",
            "                                                                 \n",
            " conv_pad_2 (ZeroPadding2D)  (None, 114, 114, 48)      0         \n",
            "                                                                 \n",
            " conv_dw_2 (DepthwiseConv2D  (None, 56, 56, 48)        432       \n",
            " )                                                               \n",
            "                                                                 \n",
            " conv_dw_2_bn (BatchNormali  (None, 56, 56, 48)        192       \n",
            " zation)                                                         \n",
            "                                                                 \n",
            " conv_dw_2_relu (ReLU)       (None, 56, 56, 48)        0         \n",
            "                                                                 \n",
            " conv_pw_2 (Conv2D)          (None, 56, 56, 96)        4608      \n",
            "                                                                 \n",
            " conv_pw_2_bn (BatchNormali  (None, 56, 56, 96)        384       \n",
            " zation)                                                         \n",
            "                                                                 \n",
            " conv_pw_2_relu (ReLU)       (None, 56, 56, 96)        0         \n",
            "                                                                 \n",
            " conv_dw_3 (DepthwiseConv2D  (None, 56, 56, 96)        864       \n",
            " )                                                               \n",
            "                                                                 \n",
            " conv_dw_3_bn (BatchNormali  (None, 56, 56, 96)        384       \n",
            " zation)                                                         \n",
            "                                                                 \n",
            " conv_dw_3_relu (ReLU)       (None, 56, 56, 96)        0         \n",
            "                                                                 \n",
            " conv_pw_3 (Conv2D)          (None, 56, 56, 96)        9216      \n",
            "                                                                 \n",
            " conv_pw_3_bn (BatchNormali  (None, 56, 56, 96)        384       \n",
            " zation)                                                         \n",
            "                                                                 \n",
            " conv_pw_3_relu (ReLU)       (None, 56, 56, 96)        0         \n",
            "                                                                 \n",
            " conv_pad_4 (ZeroPadding2D)  (None, 58, 58, 96)        0         \n",
            "                                                                 \n",
            " conv_dw_4 (DepthwiseConv2D  (None, 28, 28, 96)        864       \n",
            " )                                                               \n",
            "                                                                 \n",
            " conv_dw_4_bn (BatchNormali  (None, 28, 28, 96)        384       \n",
            " zation)                                                         \n",
            "                                                                 \n",
            " conv_dw_4_relu (ReLU)       (None, 28, 28, 96)        0         \n",
            "                                                                 \n",
            " conv_pw_4 (Conv2D)          (None, 28, 28, 192)       18432     \n",
            "                                                                 \n",
            " conv_pw_4_bn (BatchNormali  (None, 28, 28, 192)       768       \n",
            " zation)                                                         \n",
            "                                                                 \n",
            " conv_pw_4_relu (ReLU)       (None, 28, 28, 192)       0         \n",
            "                                                                 \n",
            " conv_dw_5 (DepthwiseConv2D  (None, 28, 28, 192)       1728      \n",
            " )                                                               \n",
            "                                                                 \n",
            " conv_dw_5_bn (BatchNormali  (None, 28, 28, 192)       768       \n",
            " zation)                                                         \n",
            "                                                                 \n",
            " conv_dw_5_relu (ReLU)       (None, 28, 28, 192)       0         \n",
            "                                                                 \n",
            " conv_pw_5 (Conv2D)          (None, 28, 28, 192)       36864     \n",
            "                                                                 \n",
            " conv_pw_5_bn (BatchNormali  (None, 28, 28, 192)       768       \n",
            " zation)                                                         \n",
            "                                                                 \n",
            " conv_pw_5_relu (ReLU)       (None, 28, 28, 192)       0         \n",
            "                                                                 \n",
            " conv_pad_6 (ZeroPadding2D)  (None, 30, 30, 192)       0         \n",
            "                                                                 \n",
            " conv_dw_6 (DepthwiseConv2D  (None, 14, 14, 192)       1728      \n",
            " )                                                               \n",
            "                                                                 \n",
            " conv_dw_6_bn (BatchNormali  (None, 14, 14, 192)       768       \n",
            " zation)                                                         \n",
            "                                                                 \n",
            " conv_dw_6_relu (ReLU)       (None, 14, 14, 192)       0         \n",
            "                                                                 \n",
            " conv_pw_6 (Conv2D)          (None, 14, 14, 384)       73728     \n",
            "                                                                 \n",
            " conv_pw_6_bn (BatchNormali  (None, 14, 14, 384)       1536      \n",
            " zation)                                                         \n",
            "                                                                 \n",
            " conv_pw_6_relu (ReLU)       (None, 14, 14, 384)       0         \n",
            "                                                                 \n",
            " conv_dw_7 (DepthwiseConv2D  (None, 14, 14, 384)       3456      \n",
            " )                                                               \n",
            "                                                                 \n",
            " conv_dw_7_bn (BatchNormali  (None, 14, 14, 384)       1536      \n",
            " zation)                                                         \n",
            "                                                                 \n",
            " conv_dw_7_relu (ReLU)       (None, 14, 14, 384)       0         \n",
            "                                                                 \n",
            " conv_pw_7 (Conv2D)          (None, 14, 14, 384)       147456    \n",
            "                                                                 \n",
            " conv_pw_7_bn (BatchNormali  (None, 14, 14, 384)       1536      \n",
            " zation)                                                         \n",
            "                                                                 \n",
            " conv_pw_7_relu (ReLU)       (None, 14, 14, 384)       0         \n",
            "                                                                 \n",
            " conv_dw_8 (DepthwiseConv2D  (None, 14, 14, 384)       3456      \n",
            " )                                                               \n",
            "                                                                 \n",
            " conv_dw_8_bn (BatchNormali  (None, 14, 14, 384)       1536      \n",
            " zation)                                                         \n",
            "                                                                 \n",
            " conv_dw_8_relu (ReLU)       (None, 14, 14, 384)       0         \n",
            "                                                                 \n",
            " conv_pw_8 (Conv2D)          (None, 14, 14, 384)       147456    \n",
            "                                                                 \n",
            " conv_pw_8_bn (BatchNormali  (None, 14, 14, 384)       1536      \n",
            " zation)                                                         \n",
            "                                                                 \n",
            " conv_pw_8_relu (ReLU)       (None, 14, 14, 384)       0         \n",
            "                                                                 \n",
            " conv_dw_9 (DepthwiseConv2D  (None, 14, 14, 384)       3456      \n",
            " )                                                               \n",
            "                                                                 \n",
            " conv_dw_9_bn (BatchNormali  (None, 14, 14, 384)       1536      \n",
            " zation)                                                         \n",
            "                                                                 \n",
            " conv_dw_9_relu (ReLU)       (None, 14, 14, 384)       0         \n",
            "                                                                 \n",
            " conv_pw_9 (Conv2D)          (None, 14, 14, 384)       147456    \n",
            "                                                                 \n",
            " conv_pw_9_bn (BatchNormali  (None, 14, 14, 384)       1536      \n",
            " zation)                                                         \n",
            "                                                                 \n",
            " conv_pw_9_relu (ReLU)       (None, 14, 14, 384)       0         \n",
            "                                                                 \n",
            " conv_dw_10 (DepthwiseConv2  (None, 14, 14, 384)       3456      \n",
            " D)                                                              \n",
            "                                                                 \n",
            " conv_dw_10_bn (BatchNormal  (None, 14, 14, 384)       1536      \n",
            " ization)                                                        \n",
            "                                                                 \n",
            " conv_dw_10_relu (ReLU)      (None, 14, 14, 384)       0         \n",
            "                                                                 \n",
            " conv_pw_10 (Conv2D)         (None, 14, 14, 384)       147456    \n",
            "                                                                 \n",
            " conv_pw_10_bn (BatchNormal  (None, 14, 14, 384)       1536      \n",
            " ization)                                                        \n",
            "                                                                 \n",
            " conv_pw_10_relu (ReLU)      (None, 14, 14, 384)       0         \n",
            "                                                                 \n",
            " conv_dw_11 (DepthwiseConv2  (None, 14, 14, 384)       3456      \n",
            " D)                                                              \n",
            "                                                                 \n",
            " conv_dw_11_bn (BatchNormal  (None, 14, 14, 384)       1536      \n",
            " ization)                                                        \n",
            "                                                                 \n",
            " conv_dw_11_relu (ReLU)      (None, 14, 14, 384)       0         \n",
            "                                                                 \n",
            " conv_pw_11 (Conv2D)         (None, 14, 14, 384)       147456    \n",
            "                                                                 \n",
            " conv_pw_11_bn (BatchNormal  (None, 14, 14, 384)       1536      \n",
            " ization)                                                        \n",
            "                                                                 \n",
            " conv_pw_11_relu (ReLU)      (None, 14, 14, 384)       0         \n",
            "                                                                 \n",
            " conv_pad_12 (ZeroPadding2D  (None, 16, 16, 384)       0         \n",
            " )                                                               \n",
            "                                                                 \n",
            " conv_dw_12 (DepthwiseConv2  (None, 7, 7, 384)         3456      \n",
            " D)                                                              \n",
            "                                                                 \n",
            " conv_dw_12_bn (BatchNormal  (None, 7, 7, 384)         1536      \n",
            " ization)                                                        \n",
            "                                                                 \n",
            " conv_dw_12_relu (ReLU)      (None, 7, 7, 384)         0         \n",
            "                                                                 \n",
            " conv_pw_12 (Conv2D)         (None, 7, 7, 768)         294912    \n",
            "                                                                 \n",
            " conv_pw_12_bn (BatchNormal  (None, 7, 7, 768)         3072      \n",
            " ization)                                                        \n",
            "                                                                 \n",
            " conv_pw_12_relu (ReLU)      (None, 7, 7, 768)         0         \n",
            "                                                                 \n",
            " conv_dw_13 (DepthwiseConv2  (None, 7, 7, 768)         6912      \n",
            " D)                                                              \n",
            "                                                                 \n",
            " conv_dw_13_bn (BatchNormal  (None, 7, 7, 768)         3072      \n",
            " ization)                                                        \n",
            "                                                                 \n",
            " conv_dw_13_relu (ReLU)      (None, 7, 7, 768)         0         \n",
            "                                                                 \n",
            " conv_pw_13 (Conv2D)         (None, 7, 7, 768)         589824    \n",
            "                                                                 \n",
            " conv_pw_13_bn (BatchNormal  (None, 7, 7, 768)         3072      \n",
            " ization)                                                        \n",
            "                                                                 \n",
            " conv_pw_13_relu (ReLU)      (None, 7, 7, 768)         0         \n",
            "                                                                 \n",
            " global_average_pooling2d (  (None, 768)               0         \n",
            " GlobalAveragePooling2D)                                         \n",
            "                                                                 \n",
            " dense (Dense)               (None, 100)               76900     \n",
            "                                                                 \n",
            " dropout (Dropout)           (None, 100)               0         \n",
            "                                                                 \n",
            " dense_1 (Dense)             (None, 50)                5050      \n",
            "                                                                 \n",
            " dropout_1 (Dropout)         (None, 50)                0         \n",
            "                                                                 \n",
            " dense_2 (Dense)             (None, 4)                 204       \n",
            "                                                                 \n",
            "=================================================================\n",
            "Total params: 1915130 (7.31 MB)\n",
            "Trainable params: 82154 (320.91 KB)\n",
            "Non-trainable params: 1832976 (6.99 MB)\n",
            "_________________________________________________________________\n"
          ]
        },
        {
          "output_type": "stream",
          "name": "stderr",
          "text": [
            "<ipython-input-12-ad3e89ccc49c>:4: UserWarning: `Model.fit_generator` is deprecated and will be removed in a future version. Please use `Model.fit`, which supports generators.\n",
            "  history = finetune_model.fit_generator(generator=train_generator,steps_per_epoch=step_size_train,epochs=EPOCHS, shuffle=True)\n"
          ]
        },
        {
          "output_type": "stream",
          "name": "stdout",
          "text": [
            "Epoch 1/20\n",
            "36/36 [==============================] - 37s 906ms/step - loss: 1.0160 - accuracy: 0.5972\n",
            "Epoch 2/20\n",
            "36/36 [==============================] - 32s 880ms/step - loss: 0.4235 - accuracy: 0.8487\n",
            "Epoch 3/20\n",
            "36/36 [==============================] - 45s 1s/step - loss: 0.2350 - accuracy: 0.9200\n",
            "Epoch 4/20\n",
            "36/36 [==============================] - 38s 1s/step - loss: 0.1168 - accuracy: 0.9704\n",
            "Epoch 5/20\n",
            "36/36 [==============================] - 38s 1s/step - loss: 0.1073 - accuracy: 0.9678\n",
            "Epoch 6/20\n",
            "36/36 [==============================] - 34s 942ms/step - loss: 0.0739 - accuracy: 0.9783\n",
            "Epoch 7/20\n",
            "36/36 [==============================] - 35s 969ms/step - loss: 0.0646 - accuracy: 0.9843\n",
            "Epoch 8/20\n",
            "36/36 [==============================] - 35s 965ms/step - loss: 0.0552 - accuracy: 0.9852\n",
            "Epoch 9/20\n",
            "36/36 [==============================] - 35s 972ms/step - loss: 0.0396 - accuracy: 0.9922\n",
            "Epoch 10/20\n",
            "36/36 [==============================] - 34s 932ms/step - loss: 0.0347 - accuracy: 0.9913\n",
            "Epoch 11/20\n",
            "36/36 [==============================] - 33s 913ms/step - loss: 0.0198 - accuracy: 0.9974\n",
            "Epoch 12/20\n",
            "36/36 [==============================] - 33s 903ms/step - loss: 0.0279 - accuracy: 0.9887\n",
            "Epoch 13/20\n",
            "36/36 [==============================] - 33s 905ms/step - loss: 0.0211 - accuracy: 0.9974\n",
            "Epoch 14/20\n",
            "36/36 [==============================] - 37s 1s/step - loss: 0.0357 - accuracy: 0.9913\n",
            "Epoch 15/20\n",
            "36/36 [==============================] - 34s 951ms/step - loss: 0.0202 - accuracy: 0.9939\n",
            "Epoch 16/20\n",
            "36/36 [==============================] - 36s 956ms/step - loss: 0.0184 - accuracy: 0.9965\n",
            "Epoch 17/20\n",
            "36/36 [==============================] - 34s 952ms/step - loss: 0.0165 - accuracy: 0.9948\n",
            "Epoch 18/20\n",
            "36/36 [==============================] - 36s 1000ms/step - loss: 0.0307 - accuracy: 0.9904\n",
            "Epoch 19/20\n",
            "36/36 [==============================] - 36s 1s/step - loss: 0.0182 - accuracy: 0.9948\n",
            "Epoch 20/20\n",
            "36/36 [==============================] - 36s 990ms/step - loss: 0.0168 - accuracy: 0.9948\n"
          ]
        },
        {
          "output_type": "stream",
          "name": "stderr",
          "text": [
            "/usr/local/lib/python3.10/dist-packages/keras/src/engine/training.py:3103: UserWarning: You are saving your model as an HDF5 file via `model.save()`. This file format is considered legacy. We recommend using instead the native Keras format, e.g. `model.save('my_model.keras')`.\n",
            "  saving_api.save_model(\n"
          ]
        }
      ]
    },
    {
      "cell_type": "code",
      "source": [
        "def predict_shape(img_path):\n",
        "#img_path=\"3D_Shapes_Dataset/cube/00000963.jpg\"\n",
        "    preprocessed_image = prepare_image(img_path)\n",
        "    predictions_shape = finetune_model.predict(preprocessed_image)\n",
        "    labels=['Cube','Cylinder','Spheroid','Sphere']\n",
        "    #print(\"Input Image :\")\n",
        "    img=cv2.cvtColor(cv2.imread(img_path), cv2.COLOR_BGR2RGB)\n",
        "    plt.imshow(img)\n",
        "    print(\"Shape Detected: \", labels[predictions_shape[0].tolist().index(max(predictions_shape[0]))])\n"
      ],
      "metadata": {
        "id": "iwWzGFM3we1u"
      },
      "execution_count": null,
      "outputs": []
    },
    {
      "cell_type": "code",
      "source": [
        "img_path=\"/content/drive/MyDrive/is_pro/cirlce.jpg\"\n",
        "predict_shape(img_path)"
      ],
      "metadata": {
        "colab": {
          "base_uri": "https://localhost:8080/",
          "height": 159
        },
        "id": "KXqQLdQWw0_i",
        "outputId": "34b2d8a7-fb00-4f93-8c37-b2e19b1a1883"
      },
      "execution_count": null,
      "outputs": [
        {
          "output_type": "error",
          "ename": "NameError",
          "evalue": "name 'predict_shape' is not defined",
          "traceback": [
            "\u001b[0;31m---------------------------------------------------------------------------\u001b[0m",
            "\u001b[0;31mNameError\u001b[0m                                 Traceback (most recent call last)",
            "\u001b[0;32m<ipython-input-1-a90cd6ab6134>\u001b[0m in \u001b[0;36m<cell line: 2>\u001b[0;34m()\u001b[0m\n\u001b[1;32m      1\u001b[0m \u001b[0mimg_path\u001b[0m\u001b[0;34m=\u001b[0m\u001b[0;34m\"/content/drive/MyDrive/is_pro/cirlce.jpg\"\u001b[0m\u001b[0;34m\u001b[0m\u001b[0;34m\u001b[0m\u001b[0m\n\u001b[0;32m----> 2\u001b[0;31m \u001b[0mpredict_shape\u001b[0m\u001b[0;34m(\u001b[0m\u001b[0mimg_path\u001b[0m\u001b[0;34m)\u001b[0m\u001b[0;34m\u001b[0m\u001b[0;34m\u001b[0m\u001b[0m\n\u001b[0m",
            "\u001b[0;31mNameError\u001b[0m: name 'predict_shape' is not defined"
          ]
        }
      ]
    },
    {
      "cell_type": "code",
      "source": [
        "!wget https://cainvas-static.s3.amazonaws.com/media/user_data/AMZzee/IMG_20210626_141530.jpg -O /content/drive/MyDrive/cube.jpg\n"
      ],
      "metadata": {
        "id": "bBHoT5NYw6LT"
      },
      "execution_count": null,
      "outputs": []
    },
    {
      "cell_type": "code",
      "source": [
        "img_path=\"/content/drive/MyDrive/is_pro/cirlce.jpg\"\n",
        "predict_shape(img_path)\n"
      ],
      "metadata": {
        "colab": {
          "base_uri": "https://localhost:8080/",
          "height": 470
        },
        "id": "5VKbUoKExBLI",
        "outputId": "3ef59798-6bbb-4952-df1a-92be62450ba3"
      },
      "execution_count": null,
      "outputs": [
        {
          "output_type": "stream",
          "name": "stdout",
          "text": [
            "1/1 [==============================] - 0s 45ms/step\n",
            "Shape Detected:  Cube\n"
          ]
        },
        {
          "output_type": "display_data",
          "data": {
            "text/plain": [
              "<Figure size 640x480 with 1 Axes>"
            ],
            "image/png": "[encoded data removed]"
          },
          "metadata": {}
        }
      ]
    },
    {
      "cell_type": "code",
      "source": [
        "from google.colab import drive\n",
        "drive.mount('/content/drive')"
      ],
      "metadata": {
        "colab": {
          "base_uri": "https://localhost:8080/"
        },
        "id": "zJx5-hu6xKTT",
        "outputId": "e0a82728-1c11-49fa-8a00-3d8fc5a091da"
      },
      "execution_count": null,
      "outputs": [
        {
          "output_type": "stream",
          "name": "stdout",
          "text": [
            "Drive already mounted at /content/drive; to attempt to forcibly remount, call drive.mount(\"/content/drive\", force_remount=True).\n"
          ]
        }
      ]
    }
  ]
}